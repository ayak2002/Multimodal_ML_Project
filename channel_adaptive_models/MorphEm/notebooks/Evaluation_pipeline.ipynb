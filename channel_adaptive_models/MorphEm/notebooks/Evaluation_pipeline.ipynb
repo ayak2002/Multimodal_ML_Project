{
 "cells": [
  {
   "cell_type": "code",
   "execution_count": null,
   "id": "42bcede9",
   "metadata": {},
   "outputs": [],
   "source": [
    "import json\n",
    "import pandas as pd\n",
    "import os\n",
    "\n",
    "import evaluation"
   ]
  },
  {
   "cell_type": "code",
   "execution_count": null,
   "id": "b069124d",
   "metadata": {},
   "outputs": [],
   "source": [
    "root_dir = '/scr/zchen/datasets/morphem_70k_2.0'\n",
    "dataset = 'HPA'\n",
    "model_choice = 'knn' # 'knn' or 'sgd'\n",
    "\n",
    "output_filename = \"convnext_knn.csv\"\n",
    "\n",
    "leave_out = 'Task_three' # Leave-one-out task, set to None for Allen, 'Task_three' for HPA, 'Task_four' for CP\n",
    "leaveout_label = 'cell_type' # Leave-one-out column name, 'cell_type' for HPA, 'Plate' for CP\n",
    "\n",
    "feature_dir = \"../../datasets/morphem_70k_2.0/features\"\n",
    "feature_filename = \"pretrained_convnext_channel_replicate.npy\"\n",
    "\n",
    "dest_dir = f'../results' # directory to save results\n",
    "save_csv = False # Set to True when running the last dataset to save result csv"
   ]
  },
  {
   "cell_type": "code",
   "execution_count": null,
   "id": "ff46eab2",
   "metadata": {},
   "outputs": [],
   "source": [
    "features_path = f'{feature_dir}/{dataset}/{feature_filename}'\n",
    "df_path = f'{root_dir}/{dataset}/enriched_meta.csv'\n",
    "\n",
    "results = evaluation.evaluate(features_path, df_path, leave_out, leaveout_label, model_choice, use_gpu=False)\n",
    "\n",
    "print('Results:')\n",
    "for task_ind, task in enumerate(results[\"tasks\"]):\n",
    "    print(f'Results for {dataset} {task} with {model_choice} :')\n",
    "    print(results[\"reports_str\"][task_ind])"
   ]
  },
  {
   "cell_type": "code",
   "execution_count": null,
   "id": "7a1b67b8",
   "metadata": {},
   "outputs": [],
   "source": [
    "full_reports_dict = {}\n",
    "full_reports_dict['target_encoding'] = results[\"encoded_target\"]\n",
    "for task_ind, task in enumerate(results[\"tasks\"]):\n",
    "    full_reports_dict[task] = results[\"reports_dict\"][task_ind]\n"
   ]
  },
  {
   "cell_type": "code",
   "execution_count": null,
   "id": "c185bfea",
   "metadata": {},
   "outputs": [],
   "source": [
    "if not os.path.exists(dest_dir+ '/'):\n",
    "    os.makedirs(dest_dir+ '/')\n",
    "    \n",
    "dict_path = f'{dest_dir}/{dataset}_{model_choice}_full_results.json'\n",
    "with open(dict_path, 'w') as f:\n",
    "    json.dump(full_reports_dict, f)"
   ]
  },
  {
   "cell_type": "code",
   "execution_count": null,
   "id": "7b6da95e",
   "metadata": {},
   "outputs": [],
   "source": [
    "if 'results_df' in locals():\n",
    "    results_temp = pd.DataFrame({'source': [dataset for i in range(len(results[\"tasks\"]))],\\\n",
    "                        'task': results[\"tasks\"],'model': [model_choice for i in range(len(results[\"tasks\"]))],\\\n",
    "                        'accuracy': results[\"accuracies\"],'f1_score_macro': results[\"f1scores_macro\"]})\n",
    "    results_df = pd.concat([results_df, results_temp]).reset_index(drop=True)\n",
    "\n",
    "else: \n",
    "    results_df = pd.DataFrame({'source': [dataset for i in range(len(results[\"tasks\"]))],\\\n",
    "                        'task': results[\"tasks\"],'model': [model_choice for i in range(len(results[\"tasks\"]))],\\\n",
    "                        'accuracy': results[\"accuracies\"],'f1_score_macro': results[\"f1scores_macro\"]})\n",
    "    \n",
    "results_df"
   ]
  },
  {
   "cell_type": "code",
   "execution_count": null,
   "id": "eb01a07e",
   "metadata": {},
   "outputs": [],
   "source": [
    "if save_csv:\n",
    "    results_df.to_csv(f'{dest_dir}/{model_choice}_full_results.csv', index=False)"
   ]
  }
 ],
 "metadata": {
  "kernelspec": {
   "display_name": "Python 3 (ipykernel)",
   "language": "python",
   "name": "python3"
  },
  "language_info": {
   "codemirror_mode": {
    "name": "ipython",
    "version": 3
   },
   "file_extension": ".py",
   "mimetype": "text/x-python",
   "name": "python",
   "nbconvert_exporter": "python",
   "pygments_lexer": "ipython3",
   "version": "3.9.12"
  }
 },
 "nbformat": 4,
 "nbformat_minor": 5
}
